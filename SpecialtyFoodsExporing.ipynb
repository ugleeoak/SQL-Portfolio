{
  "metadata": {
    "vscode": {
      "interpreter": {
        "hash": "15eb14ceb40cd276c3d2d597abf4d24bf92074ecf70bc096da2ec6c6670cfacc"
      }
    },
    "kernelspec": {
      "display_name": "SQLite",
      "language": "sql",
      "name": "SQLite"
    },
    "language_info": {
      "codemirror_mode": "sql",
      "file_extension": "",
      "mimetype": "",
      "name": "sql",
      "version": "3.32.3"
    }
  },
  "nbformat_minor": 4,
  "nbformat": 4,
  "cells": [
    {
      "cell_type": "markdown",
      "source": "# Mini Project - SQL: Specialty Foods Inc.",
      "metadata": {}
    },
    {
      "cell_type": "markdown",
      "source": "## Introduction\n\n**Business Context.** Specialty Foods Inc. is a food retailer focusing on the higher end of the market. You are a new marketing team member that was hired based on your data analytic skills. The company wants to improve business results through more data-driven analysis and decision-making. Traditionally the marketing department has launched campaigns to increase sales using qualitative research focused on previous experience and an understanding of the market. \n\nGiven your data analytic skills, your manager has asked you to help the marketing team by gathering insights into the company's type of customers and the products they buy. You are also invited to review past campaigns and suggest improvements for future marketing campaigns. In addition to better understanding the business, your analysis should result in specific recommendations on how the company can improve business results.\n\n\n**Objective:** This SQL mini project aims to practice your SQL skills by querying and aggregating data.\n\n**Analysis / Data Analytics:** Your team should begin by answering the questions below for your analysis. However, these questions are aimed only at getting you started and practicing your skills. Next, you should consider further study and determine what additional questions will help you understand the business and make recommendations to improve the business's results.",
      "metadata": {}
    },
    {
      "cell_type": "markdown",
      "source": "## Overview of the data\n\nThe data for this case is contained in three separate tables, which are extracts from the customer, sales, and marketing databases of the company and contain the information below:\n\n**[Customer table](data/customer.csv) includes the following information:**\n* **ID**: customer unique ID\n* **Income**: customer’s yearly household income\n* **Kids**: number of small children in the household\n* **Teens**: number of teenagers in the household\n* **Age**: age of customer\n* **Divorced**: 1 if the person is divorced, 0 otherwise\n* **Married**: 1 if the person is married, 0 otherwise\n* **Single**: 1 if the person is single, 0 otherwise\n* **Together**: 1 if the person is living with a partner, 0 otherwise\n* **Widowed**: 1 if the person is widowed, 0 otherwise\n* **Basic**: 1 if education is secondary level (high school), 0 otherwise\n* **Graduate**: 1 if education is university level, 0 otherwise\n* **Master**: 1 if education is masters level, 0 otherwise\n* **PhD**: 1 if education is doctorate level, 0 otherwise\n* **State**: US state of residency\n\n**[Sales table](data/sales.csv) table includes the following information:**\n* **ID**: customer unique ID\n* **Recency**: days since last purchase\n* **Wines**: amount spent on wine\n* **Fruits**: amount spent on fruit\n* **Meats**: amount spent on meat\n* **Seafood**: amount spent on seafood\n* **Sweets**: amount spent on sweets\n* **Premium**: amount spent on premium products\n* **Regular**: amount spent on standard products\n* **Deals**: number of purchases made with a discount\n* **Web**: number of website purchases\n* **Catalog**: number of catalog purchases\n* **Store**: number of in-store purchases\n* **Days**: number of days since last purchase\n* **Visits**: number of website visits in past 3 months\n\n**[Marketing table](data/marketing.csv) table includes the following information:**\n* **ID**: customer unique ID\n* **MC3**: 1 if customer made a purchase based on Campaign 3, otherwise 0\n* **MC4**: 1 if customer made a purchase based on Campaign 4, otherwise 0\n* **MC5**: 1 if customer made a purchase based on Campaign 5, otherwise 0\n* **MC1**: 1 if customer made a purchase based on Campaign 1, otherwise 0\n* **MC2**: 1 if customer made a purchase based on Campaign 2, otherwise 0\n* **Complaint**: 1 if customer made a complaint in past year\n* **Pilot**: 1 if customer made a purchase based on a recent pilot marketing campaign for a new product, otherwise 0\n* **Enrollment**: date the customer enrolled with the company\n",
      "metadata": {}
    },
    {
      "cell_type": "markdown",
      "source": "To load the SQLite file (which you can find at [`specialtyfood.db`](/files/miniprojects/case.miniproject.sql_fellow/data/specialtyfoods.db), we need to run the below two cells. Don’t worry about learning that code; it’s not SQL.",
      "metadata": {}
    },
    {
      "cell_type": "code",
      "source": "%FETCH /files/miniprojects/case.miniproject.sql_fellow/data/specialtyfoods.db specialtyfoods",
      "metadata": {
        "trusted": true
      },
      "execution_count": 1,
      "outputs": [
        {
          "name": "stdout",
          "text": "Start downloading from URL /files/miniprojects/case.miniproject.sql_fellow/data/specialtyfoods.db\nDownloading /files/miniprojects/case.miniproject.sql_fellow/data/specialtyfoods.db 0.41% complete\nDownloading /files/miniprojects/case.miniproject.sql_fellow/data/specialtyfoods.db 1e+02% complete\nFinished downloading 249856 bytes from URL /files/miniprojects/case.miniproject.sql_fellow/data/specialtyfoods.db\nWriting downloaded data to file specialtyfoods\nFinished writing file\n",
          "output_type": "stream"
        }
      ]
    },
    {
      "cell_type": "code",
      "source": "%LOAD specialtyfoods RW",
      "metadata": {
        "trusted": true
      },
      "execution_count": 2,
      "outputs": []
    },
    {
      "cell_type": "markdown",
      "source": "### Exercise 1\n\nCopy the code below to the code answer cell and run the SQL query to test if your database engine is working. You will see your system's current date and time.\n\n```SQL\nSELECT DATETIME();\n```\n",
      "metadata": {}
    },
    {
      "cell_type": "markdown",
      "source": "**Answer.**",
      "metadata": {}
    },
    {
      "cell_type": "code",
      "source": "SELECT DATETIME();",
      "metadata": {
        "trusted": true
      },
      "execution_count": 3,
      "outputs": [
        {
          "execution_count": 3,
          "output_type": "execute_result",
          "data": {
            "text/html": "<table>\n<tr>\n<th>DATETIME()</th>\n</tr>\n<tr>\n<td>2023-05-19 14:57:25</td>\n</tr>\n</table>",
            "text/plain": "+---------------------+\n| DATETIME()          |\n+---------------------+\n| 2023-05-19 14:57:25 |\n+---------------------+"
          },
          "metadata": {}
        }
      ]
    },
    {
      "cell_type": "markdown",
      "source": "### Exercise 2\n\nUsing our new database query the tables to understand what type of data is included in each table.\n\n",
      "metadata": {}
    },
    {
      "cell_type": "markdown",
      "source": "Let's query the [`customer`](data/customer.csv) table in our database like this:",
      "metadata": {}
    },
    {
      "cell_type": "code",
      "source": "SELECT * FROM customer LIMIT 5;",
      "metadata": {
        "trusted": true
      },
      "execution_count": 4,
      "outputs": [
        {
          "execution_count": 4,
          "output_type": "execute_result",
          "data": {
            "text/html": "<table>\n<tr>\n<th>ID</th>\n<th>Income</th>\n<th>Kids</th>\n<th>Teens</th>\n<th>Age</th>\n<th>Divorced</th>\n<th>Married</th>\n<th>Single</th>\n<th>Together</th>\n<th>Widow</th>\n<th>Basic</th>\n<th>Graduation</th>\n<th>Master</th>\n<th>PhD</th>\n<th>State</th>\n</tr>\n<tr>\n<td>2873</td>\n<td>213734</td>\n<td>0.0</td>\n<td>0.0</td>\n<td>75</td>\n<td>0</td>\n<td>0</td>\n<td>1</td>\n<td>0</td>\n<td>0</td>\n<td>0</td>\n<td>0</td>\n<td>0</td>\n<td>1</td>\n<td>State-California</td>\n</tr>\n<tr>\n<td>1629</td>\n<td>205471</td>\n<td>0.0</td>\n<td>0.0</td>\n<td>50</td>\n<td>0</td>\n<td>0</td>\n<td>0</td>\n<td>1</td>\n<td>0</td>\n<td>0</td>\n<td>1</td>\n<td>0</td>\n<td>0</td>\n<td>State-Texas</td>\n</tr>\n<tr>\n<td>1239</td>\n<td>202692</td>\n<td>0.0</td>\n<td>0.0</td>\n<td>46</td>\n<td>1</td>\n<td>0</td>\n<td>0</td>\n<td>0</td>\n<td>0</td>\n<td>0</td>\n<td>1</td>\n<td>0</td>\n<td>0</td>\n<td>State-Texas</td>\n</tr>\n<tr>\n<td>1191</td>\n<td>202160</td>\n<td>0.0</td>\n<td>0.0</td>\n<td>43</td>\n<td>0</td>\n<td>0</td>\n<td>0</td>\n<td>1</td>\n<td>0</td>\n<td>0</td>\n<td>0</td>\n<td>0</td>\n<td>1</td>\n<td>State-Texas</td>\n</tr>\n<tr>\n<td>1116</td>\n<td>201970</td>\n<td>0.0</td>\n<td>0.0</td>\n<td>37</td>\n<td>0</td>\n<td>0</td>\n<td>1</td>\n<td>0</td>\n<td>0</td>\n<td>0</td>\n<td>1</td>\n<td>0</td>\n<td>0</td>\n<td>State-Florida</td>\n</tr>\n</table>",
            "text/plain": "+------+--------+------+-------+-----+----------+---------+--------+----------+-------+-------+------------+--------+-----+------------------+\n| ID   | Income | Kids | Teens | Age | Divorced | Married | Single | Together | Widow | Basic | Graduation | Master | PhD | State            |\n+------+--------+------+-------+-----+----------+---------+--------+----------+-------+-------+------------+--------+-----+------------------+\n| 2873 | 213734 | 0.0  | 0.0   | 75  | 0        | 0       | 1      | 0        | 0     | 0     | 0          | 0      | 1   | State-California |\n+------+--------+------+-------+-----+----------+---------+--------+----------+-------+-------+------------+--------+-----+------------------+\n| 1629 | 205471 | 0.0  | 0.0   | 50  | 0        | 0       | 0      | 1        | 0     | 0     | 1          | 0      | 0   | State-Texas      |\n+------+--------+------+-------+-----+----------+---------+--------+----------+-------+-------+------------+--------+-----+------------------+\n| 1239 | 202692 | 0.0  | 0.0   | 46  | 1        | 0       | 0      | 0        | 0     | 0     | 1          | 0      | 0   | State-Texas      |\n+------+--------+------+-------+-----+----------+---------+--------+----------+-------+-------+------------+--------+-----+------------------+\n| 1191 | 202160 | 0.0  | 0.0   | 43  | 0        | 0       | 0      | 1        | 0     | 0     | 0          | 0      | 1   | State-Texas      |\n+------+--------+------+-------+-----+----------+---------+--------+----------+-------+-------+------------+--------+-----+------------------+\n| 1116 | 201970 | 0.0  | 0.0   | 37  | 0        | 0       | 1      | 0        | 0     | 0     | 1          | 0      | 0   | State-Florida    |\n+------+--------+------+-------+-----+----------+---------+--------+----------+-------+-------+------------+--------+-----+------------------+"
          },
          "metadata": {}
        }
      ]
    },
    {
      "cell_type": "markdown",
      "source": "Write a query to understand your data in the [`sales`](data/sales.csv) table. \n",
      "metadata": {}
    },
    {
      "cell_type": "markdown",
      "source": "**Answer.**",
      "metadata": {}
    },
    {
      "cell_type": "code",
      "source": "SELECT * FROM sales LIMIT 5;",
      "metadata": {
        "trusted": true
      },
      "execution_count": 5,
      "outputs": [
        {
          "execution_count": 5,
          "output_type": "execute_result",
          "data": {
            "text/html": "<table>\n<tr>\n<th>ID</th>\n<th>Recency</th>\n<th>Wines</th>\n<th>Fruits</th>\n<th>Meats</th>\n<th>Seafood</th>\n<th>Sweets</th>\n<th>Premium</th>\n<th>Regular</th>\n<th>Deals</th>\n<th>Website</th>\n<th>Catalog</th>\n<th>Store</th>\n<th>Visits</th>\n</tr>\n<tr>\n<td>1428</td>\n<td>99</td>\n<td>0</td>\n<td>36</td>\n<td>18</td>\n<td>42</td>\n<td>36</td>\n<td>72</td>\n<td>60</td>\n<td>1</td>\n<td>1.0</td>\n<td>0.0</td>\n<td>3</td>\n<td>8</td>\n</tr>\n<tr>\n<td>2152</td>\n<td>99</td>\n<td>0</td>\n<td>36</td>\n<td>18</td>\n<td>42</td>\n<td>36</td>\n<td>72</td>\n<td>60</td>\n<td>1</td>\n<td>1.0</td>\n<td>0.0</td>\n<td>3</td>\n<td>8</td>\n</tr>\n<tr>\n<td>2014</td>\n<td>99</td>\n<td>21</td>\n<td>42</td>\n<td>55</td>\n<td>13</td>\n<td>34</td>\n<td>68</td>\n<td>97</td>\n<td>1</td>\n<td>1.0</td>\n<td>0.0</td>\n<td>3</td>\n<td>8</td>\n</tr>\n<tr>\n<td>2660</td>\n<td>99</td>\n<td>81</td>\n<td>0</td>\n<td>27</td>\n<td>0</td>\n<td>3</td>\n<td>13</td>\n<td>98</td>\n<td>1</td>\n<td>1.0</td>\n<td>0.0</td>\n<td>3</td>\n<td>5</td>\n</tr>\n<tr>\n<td>1196</td>\n<td>99</td>\n<td>175</td>\n<td>0</td>\n<td>23</td>\n<td>0</td>\n<td>0</td>\n<td>13</td>\n<td>184</td>\n<td>1</td>\n<td>2.0</td>\n<td>0.0</td>\n<td>3</td>\n<td>6</td>\n</tr>\n</table>",
            "text/plain": "+------+---------+-------+--------+-------+---------+--------+---------+---------+-------+---------+---------+-------+--------+\n| ID   | Recency | Wines | Fruits | Meats | Seafood | Sweets | Premium | Regular | Deals | Website | Catalog | Store | Visits |\n+------+---------+-------+--------+-------+---------+--------+---------+---------+-------+---------+---------+-------+--------+\n| 1428 | 99      | 0     | 36     | 18    | 42      | 36     | 72      | 60      | 1     | 1.0     | 0.0     | 3     | 8      |\n+------+---------+-------+--------+-------+---------+--------+---------+---------+-------+---------+---------+-------+--------+\n| 2152 | 99      | 0     | 36     | 18    | 42      | 36     | 72      | 60      | 1     | 1.0     | 0.0     | 3     | 8      |\n+------+---------+-------+--------+-------+---------+--------+---------+---------+-------+---------+---------+-------+--------+\n| 2014 | 99      | 21    | 42     | 55    | 13      | 34     | 68      | 97      | 1     | 1.0     | 0.0     | 3     | 8      |\n+------+---------+-------+--------+-------+---------+--------+---------+---------+-------+---------+---------+-------+--------+\n| 2660 | 99      | 81    | 0      | 27    | 0       | 3      | 13      | 98      | 1     | 1.0     | 0.0     | 3     | 5      |\n+------+---------+-------+--------+-------+---------+--------+---------+---------+-------+---------+---------+-------+--------+\n| 1196 | 99      | 175   | 0      | 23    | 0       | 0      | 13      | 184     | 1     | 2.0     | 0.0     | 3     | 6      |\n+------+---------+-------+--------+-------+---------+--------+---------+---------+-------+---------+---------+-------+--------+"
          },
          "metadata": {}
        }
      ]
    },
    {
      "cell_type": "markdown",
      "source": "Write a query to understand your data in the [`marketing`](data/marketing.csv) table.",
      "metadata": {}
    },
    {
      "cell_type": "markdown",
      "source": "**Answer.**",
      "metadata": {}
    },
    {
      "cell_type": "code",
      "source": "SELECT * FROM marketing LIMIT 5;",
      "metadata": {
        "trusted": true
      },
      "execution_count": 6,
      "outputs": [
        {
          "execution_count": 6,
          "output_type": "execute_result",
          "data": {
            "text/html": "<table>\n<tr>\n<th>ID</th>\n<th>MC3</th>\n<th>MC4</th>\n<th>MC5</th>\n<th>MC1</th>\n<th>MC2</th>\n<th>Complaint</th>\n<th>Pilot</th>\n<th>Enrollment</th>\n</tr>\n<tr>\n<td>1188</td>\n<td>0</td>\n<td>1</td>\n<td>0</td>\n<td>0</td>\n<td>0</td>\n<td>0</td>\n<td>0</td>\n<td>12/3/2020</td>\n</tr>\n<tr>\n<td>1970</td>\n<td>0</td>\n<td>0</td>\n<td>0</td>\n<td>0</td>\n<td>0</td>\n<td>0</td>\n<td>0</td>\n<td>12/3/2020</td>\n</tr>\n<tr>\n<td>1043</td>\n<td>0</td>\n<td>0</td>\n<td>0</td>\n<td>0</td>\n<td>0</td>\n<td>0</td>\n<td>0</td>\n<td>12/2/2020</td>\n</tr>\n<tr>\n<td>1777</td>\n<td>0</td>\n<td>0</td>\n<td>0</td>\n<td>0</td>\n<td>0</td>\n<td>0</td>\n<td>0</td>\n<td>12/2/2020</td>\n</tr>\n<tr>\n<td>2787</td>\n<td>0</td>\n<td>0</td>\n<td>0</td>\n<td>1</td>\n<td>0</td>\n<td>0</td>\n<td>0</td>\n<td>12/2/2020</td>\n</tr>\n</table>",
            "text/plain": "+------+-----+-----+-----+-----+-----+-----------+-------+------------+\n| ID   | MC3 | MC4 | MC5 | MC1 | MC2 | Complaint | Pilot | Enrollment |\n+------+-----+-----+-----+-----+-----+-----------+-------+------------+\n| 1188 | 0   | 1   | 0   | 0   | 0   | 0         | 0     | 12/3/2020  |\n+------+-----+-----+-----+-----+-----+-----------+-------+------------+\n| 1970 | 0   | 0   | 0   | 0   | 0   | 0         | 0     | 12/3/2020  |\n+------+-----+-----+-----+-----+-----+-----------+-------+------------+\n| 1043 | 0   | 0   | 0   | 0   | 0   | 0         | 0     | 12/2/2020  |\n+------+-----+-----+-----+-----+-----+-----------+-------+------------+\n| 1777 | 0   | 0   | 0   | 0   | 0   | 0         | 0     | 12/2/2020  |\n+------+-----+-----+-----+-----+-----+-----------+-------+------------+\n| 2787 | 0   | 0   | 0   | 1   | 0   | 0         | 0     | 12/2/2020  |\n+------+-----+-----+-----+-----+-----+-----------+-------+------------+"
          },
          "metadata": {}
        }
      ]
    },
    {
      "cell_type": "markdown",
      "source": "### Exercise 3\n\nQuery the database for the products that are purchased by customers based on marital status.\n\nSpecifically, join the `customer` and `sales` tables and create a query for amount of wine (TotalWines) purchased by customers based on whether they are divorced or not.\n\nExpected output:\n\n\n\n|Divorced|TotalWines|\n|--------|----------|\n|0|1538225|\n|1|196111|\n",
      "metadata": {}
    },
    {
      "cell_type": "markdown",
      "source": "**Answer.**",
      "metadata": {}
    },
    {
      "cell_type": "code",
      "source": "SELECT customer.Divorced, SUM(sales.Wines) AS TotalWines\nFROM customer\nJOIN sales ON customer.id = sales.id\nGROUP BY Divorced;",
      "metadata": {
        "trusted": true
      },
      "execution_count": 7,
      "outputs": [
        {
          "execution_count": 7,
          "output_type": "execute_result",
          "data": {
            "text/html": "<table>\n<tr>\n<th>Divorced</th>\n<th>TotalWines</th>\n</tr>\n<tr>\n<td>0</td>\n<td>1538225</td>\n</tr>\n<tr>\n<td>1</td>\n<td>196111</td>\n</tr>\n</table>",
            "text/plain": "+----------+------------+\n| Divorced | TotalWines |\n+----------+------------+\n| 0        | 1538225    |\n+----------+------------+\n| 1        | 196111     |\n+----------+------------+"
          },
          "metadata": {}
        }
      ]
    },
    {
      "cell_type": "markdown",
      "source": "### Exercise 4\n\nQuery the database to determine what type of customers purchase which products. Can you describe what are the types of customers, e.g. what is the customer persona or segment.\n\nSpecifically, create a query to find the total amount spent on sweets (TotalSweets) for customers who have education above the university level and who are not single.\n\nExpected output:\n\n|Master|PhD|TotalSweets|\n|------|---|-----------|\n|0|0|90682|\n|0|1|17683|\n|1|0|15213|",
      "metadata": {}
    },
    {
      "cell_type": "markdown",
      "source": "**Answer.**",
      "metadata": {}
    },
    {
      "cell_type": "code",
      "source": "SELECT customer.Master, customer.PhD, SUM(sales.Sweets) AS TotalSweets\nFROM customer\nJOIN sales ON customer.id = sales.id\nWHERE customer.Single = 0\nGROUP BY customer.Master, customer.Phd;",
      "metadata": {
        "trusted": true
      },
      "execution_count": 8,
      "outputs": [
        {
          "execution_count": 8,
          "output_type": "execute_result",
          "data": {
            "text/html": "<table>\n<tr>\n<th>Master</th>\n<th>PhD</th>\n<th>TotalSweets</th>\n</tr>\n<tr>\n<td>0</td>\n<td>0</td>\n<td>90682</td>\n</tr>\n<tr>\n<td>0</td>\n<td>1</td>\n<td>17683</td>\n</tr>\n<tr>\n<td>1</td>\n<td>0</td>\n<td>15213</td>\n</tr>\n</table>",
            "text/plain": "+--------+-----+-------------+\n| Master | PhD | TotalSweets |\n+--------+-----+-------------+\n| 0      | 0   | 90682       |\n+--------+-----+-------------+\n| 0      | 1   | 17683       |\n+--------+-----+-------------+\n| 1      | 0   | 15213       |\n+--------+-----+-------------+"
          },
          "metadata": {}
        }
      ]
    },
    {
      "cell_type": "markdown",
      "source": "### Exercise 5\n\nQuery your database to discover which products bring in the most revenues for different customer segments.\n\nSpecifically, create a query to find the average age (AveAge) and average income (AveIncome) of customers from California along with their total sales for meats (TotalMeats) and seafood (TotalSeafood).\n\nExpected output:\n\n|AveAge|AveIncome|TotalMeats|TotalSeafood|\n|------|---------|----------|------------|\n|50.3081081081081|152234.313513514|147089|40222|\n",
      "metadata": {}
    },
    {
      "cell_type": "markdown",
      "source": "**Answer.**",
      "metadata": {}
    },
    {
      "cell_type": "code",
      "source": "SELECT AVG(customer.Age) AS AveAge, AVG(customer.Income) As AveIncome,\nSUM(sales.Meats) AS TotalMeats, SUM(sales.Seafood) AS TotalSeafood\nFROM customer\nJOIN sales ON customer.id = sales.id\nWHERE customer.State = \"State-California\";",
      "metadata": {
        "trusted": true
      },
      "execution_count": 9,
      "outputs": [
        {
          "execution_count": 9,
          "output_type": "execute_result",
          "data": {
            "text/html": "<table>\n<tr>\n<th>AveAge</th>\n<th>AveIncome</th>\n<th>TotalMeats</th>\n<th>TotalSeafood</th>\n</tr>\n<tr>\n<td>50.3081081081081</td>\n<td>152234.313513514</td>\n<td>147089</td>\n<td>40222</td>\n</tr>\n</table>",
            "text/plain": "+------------------+------------------+------------+--------------+\n| AveAge           | AveIncome        | TotalMeats | TotalSeafood |\n+------------------+------------------+------------+--------------+\n| 50.3081081081081 | 152234.313513514 | 147089     | 40222        |\n+------------------+------------------+------------+--------------+"
          },
          "metadata": {}
        }
      ]
    },
    {
      "cell_type": "markdown",
      "source": "## SQL Bonus Question (Optional)\n\n### Exercise 6\n\nCreate one query that outputs the total sales from premium products and the average income of customers for customers over the age of 50 who participated in marketing campaign 5. \n\nHint: use two inner joins\n\nExpected output:\n\n|TotalPremium|AveIncome|\n|------------|---------|\n|12077|181205.797297297|",
      "metadata": {}
    },
    {
      "cell_type": "markdown",
      "source": "**Answer.**",
      "metadata": {}
    },
    {
      "cell_type": "code",
      "source": "SELECT SUM(sales.Premium) AS TotalPremium, AVG(customer.Income) AS AveIncome\nFROM customer\nINNER JOIN sales ON customer.id = sales.id \nINNER JOIN marketing ON customer.id = marketing.id\nWHERE customer.Age > 50 AND marketing.MC5 = 1;",
      "metadata": {
        "trusted": true
      },
      "execution_count": 10,
      "outputs": [
        {
          "execution_count": 10,
          "output_type": "execute_result",
          "data": {
            "text/html": "<table>\n<tr>\n<th>TotalPremium</th>\n<th>AveIncome</th>\n</tr>\n<tr>\n<td>12077</td>\n<td>181205.797297297</td>\n</tr>\n</table>",
            "text/plain": "+--------------+------------------+\n| TotalPremium | AveIncome        |\n+--------------+------------------+\n| 12077        | 181205.797297297 |\n+--------------+------------------+"
          },
          "metadata": {}
        }
      ]
    },
    {
      "cell_type": "code",
      "source": "",
      "metadata": {},
      "execution_count": null,
      "outputs": []
    }
  ]
}
